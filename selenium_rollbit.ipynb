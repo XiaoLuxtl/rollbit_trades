{
 "cells": [
  {
   "cell_type": "markdown",
   "id": "51080ccf",
   "metadata": {},
   "source": [
    "# Selenium https://rollbit.com/ trade scrape"
   ]
  },
  {
   "cell_type": "code",
   "execution_count": null,
   "id": "1823cca5",
   "metadata": {},
   "outputs": [],
   "source": [
    "# Install a pip package in the current Jupyter kernel\n",
    "import sys\n",
    "!{sys.executable} -m pip install selenium\n",
    "!{sys.executable} -m pip install webdriver-manager\n",
    "!{sys.executable} -m pip install bs4\n",
    "!{sys.executable} -m pip install pandas\n",
    "# !{sys.executable} -m apt-get update \n",
    "# !{sys.executable} -m apt install chromium-chromedriver\n",
    "!{sys.executable} -m pip install ipyparallel\n",
    "!{sys.executable} -m pip install matplotlib"
   ]
  },
  {
   "cell_type": "code",
   "execution_count": null,
   "id": "9e2dc8b2",
   "metadata": {},
   "outputs": [],
   "source": [
    "import time\n",
    "import datetime\n",
    "import pandas as pd\n",
    "import ipyparallel as ipp\n",
    "from datetime import timezone\n",
    "from selenium import webdriver\n",
    "from webdriver_manager.chrome import ChromeDriverManager\n",
    "from selenium.webdriver.common.by import By\n",
    "from selenium.webdriver.support.ui import WebDriverWait\n",
    "from selenium.webdriver.support import expected_conditions as EC\n",
    "from selenium.common.exceptions import StaleElementReferenceException\n",
    "from selenium.webdriver.chrome.options import Options\n",
    "from bs4 import BeautifulSoup\n"
   ]
  },
  {
   "cell_type": "code",
   "execution_count": null,
   "id": "7b182de8",
   "metadata": {},
   "outputs": [],
   "source": [
    "SLEEP = 0.5\n",
    "ignored_exceptions = (StaleElementReferenceException,)\n",
    "master_list = []"
   ]
  },
  {
   "cell_type": "code",
   "execution_count": null,
   "id": "32a955f3",
   "metadata": {},
   "outputs": [],
   "source": []
  },
  {
   "cell_type": "code",
   "execution_count": null,
   "id": "6710a3c0",
   "metadata": {},
   "outputs": [],
   "source": [
    "def btn_click(xpath):\n",
    "    try:        \n",
    "        driver.execute_script(\"arguments[0].click();\", WebDriverWait(\n",
    "            driver, 1, SLEEP, ignored_exceptions=ignored_exceptions).until(\n",
    "            EC.presence_of_element_located((By.XPATH, xpath))))\n",
    "    except Exception as e:\n",
    "        print(e)"
   ]
  },
  {
   "cell_type": "code",
   "execution_count": null,
   "id": "dd2389f3",
   "metadata": {},
   "outputs": [],
   "source": [
    "def update(html):\n",
    "    _up = '#72f238'\n",
    "    dt = datetime.datetime.now(timezone.utc)\n",
    "    time = dt.strftime('%Y-%m-%d-%H:%M:%S.%f')[:-3]\n",
    "\n",
    "    soup = BeautifulSoup(html, 'html.parser')\n",
    "    trs = soup.find('tbody').find_all('tr')\n",
    "\n",
    "    for tr in trs:\n",
    "        data = {}\n",
    "        t = tr.find_all('td')\n",
    "        \n",
    "        data['time']         = time\n",
    "        data['player']       = t[0].text\n",
    "        data['trade']        = t[1].find('a')['href'].split('/')[2]\n",
    "        _color               = t[1].find('svg', {'class': 'css-1pzuxf4'})['color']\n",
    "        if _color == _up:\n",
    "            data['position'] = 'UP'\n",
    "        else:\n",
    "            data['position'] = 'DOWN'\n",
    "        data['wager']        = t[2].find('div').text\n",
    "        data['multiplier']   = t[3].find('div').text\n",
    "        data['pnl']          = t[4].find('div').text\n",
    "        data['roi']          = t[5].find('div').text        \n",
    "\n",
    "        print(data)\n",
    "        master_list.append(data)        \n",
    "        break   "
   ]
  },
  {
   "cell_type": "code",
   "execution_count": null,
   "id": "9d9e2aa8",
   "metadata": {},
   "outputs": [],
   "source": [
    "# SS5 = '74.208.76.181:1080'\n",
    "options = Options()\n",
    "chrome_options = webdriver.ChromeOptions()\n",
    "# options.add_argument('--headless')\n",
    "options.add_argument('--no-sandbox')\n",
    "options.add_argument('--disable-dev-shm-usage')\n",
    "# options.add_argument('--proxy-server=socks5://' + SS5)\n",
    "# driver = webdriver.Chrome('chromedriver',chrome_options=options)\n",
    "driver = webdriver.Chrome(ChromeDriverManager().install(), chrome_options=options)"
   ]
  },
  {
   "cell_type": "code",
   "execution_count": null,
   "id": "d5d910cf",
   "metadata": {},
   "outputs": [],
   "source": [
    "driver.get('https://rollbit.com')\n",
    "# html = driver.page_source\n",
    "# html"
   ]
  },
  {
   "cell_type": "code",
   "execution_count": null,
   "id": "7cc9005b",
   "metadata": {},
   "outputs": [],
   "source": [
    "_xpath_nav_trades = '//div[contains(text(),\"Trades\")]'\n",
    "btn_click(_xpath_nav_trades)"
   ]
  },
  {
   "cell_type": "code",
   "execution_count": null,
   "id": "5d95d4de",
   "metadata": {
    "scrolled": true
   },
   "outputs": [],
   "source": [
    "_c = 0\n",
    "_prev = ''\n",
    "_now = ''\n",
    "_xpath_table = '//table'\n",
    "\n",
    "while 1:\n",
    "    try:\n",
    "        html_table = driver.find_element(By.XPATH, _xpath_table).get_attribute('innerHTML')\n",
    "        _now = hash(html_table)\n",
    "        if _prev != _now:\n",
    "            _prev = _now\n",
    "            update(html_table)\n",
    "            df = pd.DataFrame(master_list)\n",
    "            %store df\n",
    "    except:\n",
    "        print('Something went wrong, WebDown or InternetDown?')\n",
    "    \n",
    "    _c += 1\n",
    "    if _c > 50000: \n",
    "        print('end')\n",
    "        break\n",
    "#     time.sleep(0.1)"
   ]
  },
  {
   "cell_type": "code",
   "execution_count": null,
   "id": "c65e3fd0",
   "metadata": {},
   "outputs": [],
   "source": [
    "df = pd.DataFrame(master_list)"
   ]
  },
  {
   "cell_type": "code",
   "execution_count": null,
   "id": "3e67c556",
   "metadata": {
    "scrolled": true
   },
   "outputs": [],
   "source": [
    "df"
   ]
  },
  {
   "cell_type": "code",
   "execution_count": null,
   "id": "90fd8f15",
   "metadata": {},
   "outputs": [],
   "source": [
    "df.to_csv('./data/sample_rollbit.csv', index=False)"
   ]
  },
  {
   "cell_type": "code",
   "execution_count": null,
   "id": "9e1723bd",
   "metadata": {},
   "outputs": [],
   "source": [
    "driver.quit()"
   ]
  },
  {
   "cell_type": "code",
   "execution_count": null,
   "id": "af350c94",
   "metadata": {},
   "outputs": [],
   "source": []
  },
  {
   "cell_type": "markdown",
   "id": "4b606e6f",
   "metadata": {},
   "source": [
    "# TEST"
   ]
  },
  {
   "cell_type": "code",
   "execution_count": 1,
   "id": "af67e781",
   "metadata": {},
   "outputs": [
    {
     "ename": "NameError",
     "evalue": "name 'ipp' is not defined",
     "output_type": "error",
     "traceback": [
      "\u001b[1;31m---------------------------------------------------------------------------\u001b[0m",
      "\u001b[1;31mNameError\u001b[0m                                 Traceback (most recent call last)",
      "Input \u001b[1;32mIn [1]\u001b[0m, in \u001b[0;36m<cell line: 3>\u001b[1;34m()\u001b[0m\n\u001b[0;32m      1\u001b[0m task_durations \u001b[38;5;241m=\u001b[39m [\u001b[38;5;241m1\u001b[39m] \u001b[38;5;241m*\u001b[39m \u001b[38;5;241m10\u001b[39m\n\u001b[0;32m      2\u001b[0m \u001b[38;5;66;03m# request a cluster\u001b[39;00m\n\u001b[1;32m----> 3\u001b[0m \u001b[38;5;28;01mwith\u001b[39;00m \u001b[43mipp\u001b[49m\u001b[38;5;241m.\u001b[39mCluster(n\u001b[38;5;241m=\u001b[39m\u001b[38;5;241m4\u001b[39m) \u001b[38;5;28;01mas\u001b[39;00m rc:\n\u001b[0;32m      4\u001b[0m     \u001b[38;5;66;03m# get a view on the cluster\u001b[39;00m\n\u001b[0;32m      5\u001b[0m     view \u001b[38;5;241m=\u001b[39m rc\u001b[38;5;241m.\u001b[39mload_balanced_view()\n\u001b[0;32m      6\u001b[0m     \u001b[38;5;66;03m# submit the tasks\u001b[39;00m\n",
      "\u001b[1;31mNameError\u001b[0m: name 'ipp' is not defined"
     ]
    }
   ],
   "source": [
    "task_durations = [1] * 10\n",
    "# request a cluster\n",
    "with ipp.Cluster(n=4) as rc:\n",
    "    # get a view on the cluster\n",
    "    view = rc.load_balanced_view()\n",
    "    # submit the tasks\n",
    "    asyncresult = view.map_async(time.sleep, task_durations)\n",
    "    # wait interactively for results\n",
    "    asyncresult.wait_interactive()\n",
    "    # retrieve actual results\n",
    "    result = asyncresult.get()\n",
    "# at this point, the cluster processes have been shutdown"
   ]
  },
  {
   "cell_type": "code",
   "execution_count": null,
   "id": "b7feb556",
   "metadata": {},
   "outputs": [],
   "source": [
    "import gspread_dataframe as gd\n",
    "import gspread as gs\n",
    "gc = gs.service_account(filename=\"your/cred/file.json\")\n",
    "\n",
    "def export_to_sheets(worksheet_name,df,mode='r'):\n",
    "    ws = gc.open(\"SHEET_NAME\").worksheet(\"worksheet_name\")\n",
    "    if(mode=='w'):\n",
    "        ws.clear()\n",
    "        gd.set_with_dataframe(worksheet=ws,dataframe=df,include_index=False,include_column_header=True,resize=True)\n",
    "        return True\n",
    "    elif(mode=='a'):\n",
    "        ws.add_rows(df.shape[0])\n",
    "        gd.set_with_dataframe(worksheet=ws,dataframe=df,include_index=False,include_column_header=False,row=ws.row_count+1,resize=False)\n",
    "        return True\n",
    "    else:\n",
    "        return gd.get_as_dataframe(worksheet=ws)\n",
    "    \n",
    "df = pd.DataFrame.from_records([{'a': i, 'b': i * 2} for i in range(100)])\n",
    "export_to_sheets(\"SHEET_NAME\",df,'a')"
   ]
  },
  {
   "cell_type": "code",
   "execution_count": null,
   "id": "626c2ba6",
   "metadata": {},
   "outputs": [],
   "source": []
  }
 ],
 "metadata": {
  "kernelspec": {
   "display_name": "venv",
   "language": "python",
   "name": "venv"
  },
  "language_info": {
   "codemirror_mode": {
    "name": "ipython",
    "version": 3
   },
   "file_extension": ".py",
   "mimetype": "text/x-python",
   "name": "python",
   "nbconvert_exporter": "python",
   "pygments_lexer": "ipython3",
   "version": "3.10.4"
  }
 },
 "nbformat": 4,
 "nbformat_minor": 5
}
